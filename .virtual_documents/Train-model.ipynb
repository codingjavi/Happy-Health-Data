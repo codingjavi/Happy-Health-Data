import pandas as pd
from sklearn import datasets
from sklearn.model_selection import train_test_split
from sklearn.ensemble import RandomForestClassifier
from sklearn.datasets import make_classification


df = pd.read_csv('Training-Data.csv')


df





#first 33 are input, last 5 are the results
df_first_33_cols = df.iloc[:, :33]
X = df_first_33_cols.values
#X = df_first_33_cols.apply(lambda row: row.tolist(), axis=1)


X[0]


X.shape


df_last_5_cols = df.iloc[:, -5:]
Y = df_last_5_cols.values
Y


Y.shape


X_train, X_test, Y_train, Y_test = train_test_split(X, Y, test_size=0.2)
X_train.shape, Y_train.shape


X_test.shape, Y_test.shape


clf = RandomForestClassifier()





clf.fit(X_train, Y_train)


print(clf.predict([[1, 1, 1, 1, 1, 1, 1, 1, 0, 0, 0, 0, 0, 0, 0, 0, 0, 0, 0, 0, 0, 0,
       0, 0, 0, 0, 0, 0, 0, 0, 0, 0, 0]]))


print(clf.predict(X_test))


print(Y_test)


#print(clf.score(X_test, Y_test))
#multiclass-multioutput is not supported



